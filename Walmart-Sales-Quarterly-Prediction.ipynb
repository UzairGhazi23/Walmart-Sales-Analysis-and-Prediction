{
 "cells": [
  {
   "cell_type": "markdown",
   "id": "237160de",
   "metadata": {},
   "source": [
    "# Walmart Quarterly Sales Analysis and Prediction"
   ]
  },
  {
   "cell_type": "markdown",
   "id": "27983692",
   "metadata": {},
   "source": [
    "### 2.1)Importing Libraries"
   ]
  },
  {
   "cell_type": "code",
   "execution_count": 3,
   "id": "aa2b4d9f",
   "metadata": {},
   "outputs": [],
   "source": [
    "import pandas as pd\n",
    "import numpy as np\n",
    "import matplotlib.pyplot as plt\n",
    "import seaborn as sns\n",
    "from scipy.stats import spearmanr\n",
    "\n",
    "from sklearn.model_selection import train_test_split, GridSearchCV\n",
    "from sklearn.preprocessing import StandardScaler, OneHotEncoder , FunctionTransformer , LabelEncoder , PowerTransformer\n",
    "from sklearn.impute import SimpleImputer\n",
    "from sklearn.compose import ColumnTransformer \n",
    "from sklearn.pipeline import Pipeline\n",
    "from sklearn.metrics import mean_absolute_error, mean_squared_error, r2_score ,mean_absolute_percentage_error , accuracy_score\n",
    "from sklearn.tree import DecisionTreeRegressor ,plot_tree ,DecisionTreeClassifier\n",
    "from sklearn.linear_model import LinearRegression , LogisticRegression\n",
    "from sklearn.neighbors import KNeighborsRegressor , KNeighborsClassifier\n",
    "from statsmodels.tsa.seasonal import seasonal_decompose\n"
   ]
  },
  {
   "cell_type": "markdown",
   "id": "333f4684",
   "metadata": {},
   "source": [
    "### 2.2) Loading the Dataset"
   ]
  },
  {
   "cell_type": "code",
   "execution_count": 5,
   "id": "30d1c537",
   "metadata": {},
   "outputs": [],
   "source": [
    "df= pd.read_csv(\"Walmart.csv\")"
   ]
  },
  {
   "cell_type": "code",
   "execution_count": 6,
   "id": "73847e0e",
   "metadata": {},
   "outputs": [],
   "source": [
    "df[\"Date\"]=pd.to_datetime(df[\"Date\"], format='%d-%m-%Y')\n"
   ]
  },
  {
   "cell_type": "markdown",
   "id": "35790bfe",
   "metadata": {},
   "source": [
    "### 3.4.1) Removing Outliers of Weekly Sales"
   ]
  },
  {
   "cell_type": "code",
   "execution_count": 7,
   "id": "3bbc771e",
   "metadata": {},
   "outputs": [
    {
     "name": "stdout",
     "output_type": "stream",
     "text": [
      "209986.25\n",
      "3818686.45\n",
      "564366.6220536975\n",
      "1046964.8775617715\n",
      "Upper Limit: 2720371.4924999997\n",
      "Lower Limit: 119945.8274999999\n",
      "Weekly Sales Above Upper Limit Data Points (34, 8)\n",
      "Weekly Sales Below Lower Limit Data Points (0, 8)\n"
     ]
    }
   ],
   "source": [
    "print(df[\"Weekly_Sales\"].min())\n",
    "print(df[\"Weekly_Sales\"].max())\n",
    "print(df[\"Weekly_Sales\"].std())\n",
    "print(df[\"Weekly_Sales\"].mean())\n",
    "\n",
    "percentile25=df[\"Weekly_Sales\"].quantile(0.25)\n",
    "percentile75=df[\"Weekly_Sales\"].quantile(0.75)\n",
    "\n",
    "iqr = percentile75 - percentile25\n",
    "\n",
    "upper_limit_weekly_sales=percentile75 +1.5 * iqr\n",
    "lower_limit_weekly_sales=percentile75 -1.5 * iqr\n",
    "print(\"Upper Limit:\",upper_limit_weekly_sales)\n",
    "print(\"Lower Limit:\",lower_limit_weekly_sales)\n",
    "\n",
    "print(\"Weekly Sales Above Upper Limit Data Points\",df[df[\"Weekly_Sales\"]>upper_limit_weekly_sales].shape)\n",
    "\n",
    "print(\"Weekly Sales Below Lower Limit Data Points\",df[df[\"Weekly_Sales\"]<lower_limit_weekly_sales].shape)\n",
    "\n",
    "df = df[df[\"Weekly_Sales\"] < upper_limit_weekly_sales]\n",
    "\n"
   ]
  },
  {
   "cell_type": "code",
   "execution_count": 8,
   "id": "49ee7e82",
   "metadata": {},
   "outputs": [],
   "source": [
    "quarterly_df = df.copy()"
   ]
  },
  {
   "cell_type": "markdown",
   "id": "c440be00",
   "metadata": {},
   "source": [
    "# Quarterly Data Prediction"
   ]
  },
  {
   "cell_type": "code",
   "execution_count": 9,
   "id": "9065060f",
   "metadata": {},
   "outputs": [],
   "source": [
    "quarterly_df[\"Quarterly\"] = quarterly_df[\"Date\"].dt.to_period(\"Q\").dt.to_timestamp()\n",
    "quarterly_df = quarterly_df.groupby(\"Quarterly\")[[\"Weekly_Sales\", \"Temperature\", \"Fuel_Price\", \"CPI\", \"Unemployment\"]].sum()\n"
   ]
  },
  {
   "cell_type": "markdown",
   "id": "f08ffe8d",
   "metadata": {},
   "source": [
    "### Train Test Split "
   ]
  },
  {
   "cell_type": "code",
   "execution_count": 10,
   "id": "b892cc00",
   "metadata": {},
   "outputs": [],
   "source": [
    "# Prepare features and target\n",
    "X_quarterly = quarterly_df[[\"Temperature\", \"Fuel_Price\", \"CPI\", \"Unemployment\"]]\n",
    "y_quarterly = quarterly_df[\"Weekly_Sales\"]\n",
    "\n",
    "X_train_quarterly, X_test_quarterly, y_train_quarterly, y_test_quarterly = train_test_split(X_quarterly, y_quarterly, test_size=0.2, random_state=4)\n"
   ]
  },
  {
   "cell_type": "markdown",
   "id": "fd7e9414",
   "metadata": {},
   "source": [
    "### Transformation "
   ]
  },
  {
   "cell_type": "code",
   "execution_count": 11,
   "id": "0f7d65c2",
   "metadata": {},
   "outputs": [],
   "source": [
    "trf = FunctionTransformer( func = np.log1p , validate = True)"
   ]
  },
  {
   "cell_type": "code",
   "execution_count": 12,
   "id": "b2ff4ce5",
   "metadata": {},
   "outputs": [],
   "source": [
    "X_train_trans_quarterly = trf.fit_transform(X_train_quarterly)\n",
    "X_test_trans_quarterly = trf.transform(X_test_quarterly)\n",
    "y_train_trans_quarterly = trf.fit_transform(y_train_quarterly.values.reshape(-1, 1))\n",
    "y_test_trans_quarterly = trf.transform(y_test_quarterly.values.reshape(-1, 1))"
   ]
  },
  {
   "cell_type": "markdown",
   "id": "10289b4b",
   "metadata": {},
   "source": [
    "### Scaling"
   ]
  },
  {
   "cell_type": "code",
   "execution_count": 14,
   "id": "1981fb71",
   "metadata": {},
   "outputs": [],
   "source": [
    "scaler = StandardScaler()"
   ]
  },
  {
   "cell_type": "code",
   "execution_count": 15,
   "id": "69ba3ccd",
   "metadata": {},
   "outputs": [],
   "source": [
    "# Scale the features\n",
    "X_train_scaled_quarterly = scaler.fit_transform(X_train_trans_quarterly)\n",
    "X_test_scaled_quarterly = scaler.transform(X_test_trans_quarterly)\n",
    "\n",
    "# Scale the target\n",
    "y_train_scaled_quarterly = scaler.fit_transform(y_train_trans_quarterly)\n",
    "y_test_scaled_quarterly = scaler.transform(y_test_trans_quarterly)"
   ]
  },
  {
   "cell_type": "code",
   "execution_count": 16,
   "id": "686ee83e",
   "metadata": {},
   "outputs": [
    {
     "data": {
      "text/plain": [
       "array([[ 0.67345383,  0.79972226,  0.54664422,  0.32353816],\n",
       "       [-0.17062729,  0.64936483,  0.53358228,  0.35228174],\n",
       "       [ 0.93699208, -0.02376327,  0.43198326,  0.6316063 ],\n",
       "       [-2.04805014, -2.20123826, -2.56317168, -2.6800184 ],\n",
       "       [-1.39976668, -1.29633182, -0.85956794, -0.48726879],\n",
       "       [ 0.57486718,  0.06240761,  0.42603497,  0.65134236],\n",
       "       [ 0.55170753,  0.81775532,  0.47952497,  0.55044311],\n",
       "       [-0.04003185,  0.47535799,  0.45389402,  0.39460608],\n",
       "       [ 0.92145534,  0.71672533,  0.5510759 ,  0.26346944]])"
      ]
     },
     "execution_count": 16,
     "metadata": {},
     "output_type": "execute_result"
    }
   ],
   "source": [
    "X_train_scaled_quarterly"
   ]
  },
  {
   "cell_type": "markdown",
   "id": "63740227",
   "metadata": {},
   "source": [
    "### Linear Regression "
   ]
  },
  {
   "cell_type": "code",
   "execution_count": 20,
   "id": "375d4a12",
   "metadata": {},
   "outputs": [
    {
     "name": "stdout",
     "output_type": "stream",
     "text": [
      "Linear Regression MAPE Score: 3.3464487577380146\n",
      "Linear Regression MAE: 18983411.562210243\n",
      "\n",
      "Linear Regression Comparison of Actual and Predicted Weekly Sales:\n"
     ]
    },
    {
     "data": {
      "text/html": [
       "<div>\n",
       "<style scoped>\n",
       "    .dataframe tbody tr th:only-of-type {\n",
       "        vertical-align: middle;\n",
       "    }\n",
       "\n",
       "    .dataframe tbody tr th {\n",
       "        vertical-align: top;\n",
       "    }\n",
       "\n",
       "    .dataframe thead th {\n",
       "        text-align: right;\n",
       "    }\n",
       "</style>\n",
       "<table border=\"1\" class=\"dataframe\">\n",
       "  <thead>\n",
       "    <tr style=\"text-align: right;\">\n",
       "      <th></th>\n",
       "      <th>Actual Weekly Sales</th>\n",
       "      <th>Predicted Weekly Sales</th>\n",
       "    </tr>\n",
       "  </thead>\n",
       "  <tbody>\n",
       "    <tr>\n",
       "      <th>0</th>\n",
       "      <td>6.474560e+08</td>\n",
       "      <td>6.387562e+08</td>\n",
       "    </tr>\n",
       "    <tr>\n",
       "      <th>1</th>\n",
       "      <td>5.293917e+08</td>\n",
       "      <td>5.647561e+08</td>\n",
       "    </tr>\n",
       "    <tr>\n",
       "      <th>2</th>\n",
       "      <td>6.393585e+08</td>\n",
       "      <td>6.522446e+08</td>\n",
       "    </tr>\n",
       "  </tbody>\n",
       "</table>\n",
       "</div>"
      ],
      "text/plain": [
       "   Actual Weekly Sales  Predicted Weekly Sales\n",
       "0         6.474560e+08            6.387562e+08\n",
       "1         5.293917e+08            5.647561e+08\n",
       "2         6.393585e+08            6.522446e+08"
      ]
     },
     "execution_count": 20,
     "metadata": {},
     "output_type": "execute_result"
    }
   ],
   "source": [
    "# Linear Regression\n",
    "# Train Linear Regression model\n",
    "lr = LinearRegression()\n",
    "lr.fit(X_train_scaled_quarterly, y_train_scaled_quarterly)\n",
    "\n",
    "# Predict on test data\n",
    "y_pred_lr = lr.predict(X_test_scaled_quarterly)\n",
    "\n",
    "# Inverse scaling and transformation\n",
    "# Assuming scaler_y is used for scaling the target variable (y)\n",
    "y_test_inv_trans = scaler.inverse_transform(y_test_scaled_quarterly)\n",
    "y_pred_lr_inv_trans = scaler.inverse_transform(y_pred_lr.reshape(-1, 1))  # Reshape for inverse transform\n",
    "\n",
    "y_test_inv = np.expm1(y_test_inv_trans)  # Inverse log transformation\n",
    "y_pred_lr_inv = np.expm1(y_pred_lr_inv_trans)  # Inverse log transformation\n",
    "\n",
    "# Evaluation\n",
    "mape_lr = mean_absolute_percentage_error(y_test_inv, y_pred_lr_inv) * 100\n",
    "print(\"Linear Regression MAPE Score:\", mape_lr)\n",
    "\n",
    "mae_lr = mean_absolute_error(y_test_inv, y_pred_lr_inv)\n",
    "print(\"Linear Regression MAE:\", mae_lr)\n",
    "\n",
    "# Create DataFrame for comparison\n",
    "results_df_lr = pd.DataFrame({\n",
    "    'Actual Weekly Sales': y_test_inv.flatten(),\n",
    "    'Predicted Weekly Sales': y_pred_lr_inv.flatten()\n",
    "})\n",
    "\n",
    "# Display the first few rows of the results DataFrame\n",
    "print(\"\\nLinear Regression Comparison of Actual and Predicted Weekly Sales:\")\n",
    "results_df_lr.head(10)  # Display the first 10 rows\n"
   ]
  },
  {
   "cell_type": "markdown",
   "id": "73725789",
   "metadata": {},
   "source": [
    "### Decision Tree"
   ]
  },
  {
   "cell_type": "code",
   "execution_count": 23,
   "id": "6d13a7fc",
   "metadata": {},
   "outputs": [
    {
     "name": "stdout",
     "output_type": "stream",
     "text": [
      "Decision Tree MAPE Score: 10.383659924929157\n",
      "Decision Tree MAE: 60678046.54306793\n",
      "\n",
      "Decision Tree Comparison of Actual and Predicted Weekly Sales:\n"
     ]
    },
    {
     "data": {
      "text/html": [
       "<div>\n",
       "<style scoped>\n",
       "    .dataframe tbody tr th:only-of-type {\n",
       "        vertical-align: middle;\n",
       "    }\n",
       "\n",
       "    .dataframe tbody tr th {\n",
       "        vertical-align: top;\n",
       "    }\n",
       "\n",
       "    .dataframe thead th {\n",
       "        text-align: right;\n",
       "    }\n",
       "</style>\n",
       "<table border=\"1\" class=\"dataframe\">\n",
       "  <thead>\n",
       "    <tr style=\"text-align: right;\">\n",
       "      <th></th>\n",
       "      <th>Actual Weekly Sales</th>\n",
       "      <th>Predicted Weekly Sales</th>\n",
       "    </tr>\n",
       "  </thead>\n",
       "  <tbody>\n",
       "    <tr>\n",
       "      <th>0</th>\n",
       "      <td>6.474560e+08</td>\n",
       "      <td>5.952016e+08</td>\n",
       "    </tr>\n",
       "    <tr>\n",
       "      <th>1</th>\n",
       "      <td>5.293917e+08</td>\n",
       "      <td>6.150146e+08</td>\n",
       "    </tr>\n",
       "    <tr>\n",
       "      <th>2</th>\n",
       "      <td>6.393585e+08</td>\n",
       "      <td>5.952016e+08</td>\n",
       "    </tr>\n",
       "  </tbody>\n",
       "</table>\n",
       "</div>"
      ],
      "text/plain": [
       "   Actual Weekly Sales  Predicted Weekly Sales\n",
       "0         6.474560e+08            5.952016e+08\n",
       "1         5.293917e+08            6.150146e+08\n",
       "2         6.393585e+08            5.952016e+08"
      ]
     },
     "execution_count": 23,
     "metadata": {},
     "output_type": "execute_result"
    }
   ],
   "source": [
    "# Decision Tree Regression\n",
    "# Train Decision Tree model\n",
    "dt = DecisionTreeRegressor(max_depth=3, min_samples_split=4, min_samples_leaf=2)\n",
    "dt.fit(X_train_scaled_quarterly, y_train_scaled_quarterly)\n",
    "\n",
    "# Predict on test data\n",
    "y_pred_dt = dt.predict(X_test_scaled_quarterly)\n",
    "\n",
    "# Inverse scaling and transformation\n",
    "# Assuming scaler_y is used for scaling the target variable (y)\n",
    "y_test_inv_trans = scaler.inverse_transform(y_test_scaled_quarterly)\n",
    "y_pred_dt_inv_trans = scaler.inverse_transform(y_pred_dt.reshape(-1, 1))  # Reshape for inverse transform\n",
    "\n",
    "y_test_inv = np.expm1(y_test_inv_trans)  # Inverse log transformation\n",
    "y_pred_dt_inv = np.expm1(y_pred_dt_inv_trans)  # Inverse log transformation\n",
    "\n",
    "# Evaluation\n",
    "mape_dt = mean_absolute_percentage_error(y_test_inv, y_pred_dt_inv) * 100\n",
    "print(\"Decision Tree MAPE Score:\", mape_dt)\n",
    "\n",
    "mae_dt = mean_absolute_error(y_test_inv, y_pred_dt_inv)\n",
    "print(\"Decision Tree MAE:\", mae_dt)\n",
    "\n",
    "# Create DataFrame for comparison\n",
    "results_df_dt = pd.DataFrame({\n",
    "    'Actual Weekly Sales': y_test_inv.flatten(),\n",
    "    'Predicted Weekly Sales': y_pred_dt_inv.flatten()\n",
    "})\n",
    "\n",
    "# Display the first few rows of the results DataFrame\n",
    "print(\"\\nDecision Tree Comparison of Actual and Predicted Weekly Sales:\")\n",
    "results_df_dt.head(10)"
   ]
  },
  {
   "cell_type": "markdown",
   "id": "f73c2cda",
   "metadata": {},
   "source": [
    "### KNN"
   ]
  },
  {
   "cell_type": "code",
   "execution_count": 35,
   "id": "d635a8be",
   "metadata": {},
   "outputs": [
    {
     "name": "stdout",
     "output_type": "stream",
     "text": [
      "KNN MAPE Score: 8.98327725580583\n",
      "KNN MAE: 51940719.85068449\n",
      "\n",
      "KNN Comparison of Actual and Predicted Weekly Sales:\n"
     ]
    },
    {
     "data": {
      "text/html": [
       "<div>\n",
       "<style scoped>\n",
       "    .dataframe tbody tr th:only-of-type {\n",
       "        vertical-align: middle;\n",
       "    }\n",
       "\n",
       "    .dataframe tbody tr th {\n",
       "        vertical-align: top;\n",
       "    }\n",
       "\n",
       "    .dataframe thead th {\n",
       "        text-align: right;\n",
       "    }\n",
       "</style>\n",
       "<table border=\"1\" class=\"dataframe\">\n",
       "  <thead>\n",
       "    <tr style=\"text-align: right;\">\n",
       "      <th></th>\n",
       "      <th>Actual Weekly Sales</th>\n",
       "      <th>Predicted Weekly Sales</th>\n",
       "    </tr>\n",
       "  </thead>\n",
       "  <tbody>\n",
       "    <tr>\n",
       "      <th>0</th>\n",
       "      <td>6.474560e+08</td>\n",
       "      <td>6.070114e+08</td>\n",
       "    </tr>\n",
       "    <tr>\n",
       "      <th>1</th>\n",
       "      <td>5.293917e+08</td>\n",
       "      <td>6.111820e+08</td>\n",
       "    </tr>\n",
       "    <tr>\n",
       "      <th>2</th>\n",
       "      <td>6.393585e+08</td>\n",
       "      <td>6.057711e+08</td>\n",
       "    </tr>\n",
       "  </tbody>\n",
       "</table>\n",
       "</div>"
      ],
      "text/plain": [
       "   Actual Weekly Sales  Predicted Weekly Sales\n",
       "0         6.474560e+08            6.070114e+08\n",
       "1         5.293917e+08            6.111820e+08\n",
       "2         6.393585e+08            6.057711e+08"
      ]
     },
     "execution_count": 35,
     "metadata": {},
     "output_type": "execute_result"
    }
   ],
   "source": [
    "knn = KNeighborsRegressor(n_neighbors=5)\n",
    "\n",
    "knn.fit(X_train_scaled_quarterly, y_train_scaled_quarterly)\n",
    "\n",
    "y_pred_knn = knn.predict(X_test_scaled_quarterly)\n",
    "\n",
    "y_test_inv_trans = scaler.inverse_transform(y_test_scaled_quarterly.reshape(-1, 1))  # Reshape for inverse transform\n",
    "y_pred_knn_inv_trans = scaler.inverse_transform(y_pred_knn.reshape(-1, 1))  # Reshape for inverse transform\n",
    "\n",
    "# Apply inverse log transformation\n",
    "y_test_inv = np.expm1(y_test_inv_trans)  # Inverse log transformation\n",
    "y_pred_knn_inv = np.expm1(y_pred_knn_inv_trans)  # Inverse log transformation\n",
    "\n",
    "# Calculate evaluation metrics\n",
    "mape_knn = mean_absolute_percentage_error(y_test_inv, y_pred_knn_inv) * 100\n",
    "print(\"KNN MAPE Score:\", mape_knn)\n",
    "\n",
    "mae_knn = mean_absolute_error(y_test_inv, y_pred_knn_inv)\n",
    "print(\"KNN MAE:\", mae_knn)\n",
    "\n",
    "# Create DataFrame for comparison\n",
    "results_df_knn = pd.DataFrame({\n",
    "    'Actual Weekly Sales': y_test_inv.flatten(),\n",
    "    'Predicted Weekly Sales': y_pred_knn_inv.flatten()\n",
    "})\n",
    "\n",
    "# Display the first few rows of the results DataFrame\n",
    "print(\"\\nKNN Comparison of Actual and Predicted Weekly Sales:\")\n",
    "results_df_knn.head(3)"
   ]
  },
  {
   "cell_type": "markdown",
   "id": "63c977fb",
   "metadata": {},
   "source": [
    "# Graphical Comparison"
   ]
  },
  {
   "cell_type": "code",
   "execution_count": 36,
   "id": "13eeb2f6",
   "metadata": {},
   "outputs": [
    {
     "data": {
      "image/png": "[encoded data removed]",
      "text/plain": [
       "<Figure size 600x400 with 1 Axes>"
      ]
     },
     "metadata": {},
     "output_type": "display_data"
    }
   ],
   "source": [
    "models = ['Linear Regression', 'Decision Tree', 'K-Nearest Neighbors']\n",
    "mape_scores = [mape_lr, mape_dt, mape_knn]\n",
    "plt.figure(figsize=(6, 4))\n",
    "plt.bar(models, mape_scores, color=['blue', 'green', 'red'])\n",
    "plt.xlabel('Models')\n",
    "plt.ylabel('MAPE')\n",
    "plt.title('Comparison of MAPE for Different Models')\n",
    "\n",
    "plt.tight_layout()\n",
    "plt.show()"
   ]
  },
  {
   "cell_type": "code",
   "execution_count": null,
   "id": "16ba0064",
   "metadata": {},
   "outputs": [],
   "source": []
  }
 ],
 "metadata": {
  "kernelspec": {
   "display_name": "Python 3 (ipykernel)",
   "language": "python",
   "name": "python3"
  },
  "language_info": {
   "codemirror_mode": {
    "name": "ipython",
    "version": 3
   },
   "file_extension": ".py",
   "mimetype": "text/x-python",
   "name": "python",
   "nbconvert_exporter": "python",
   "pygments_lexer": "ipython3",
   "version": "3.10.9"
  }
 },
 "nbformat": 4,
 "nbformat_minor": 5
}
