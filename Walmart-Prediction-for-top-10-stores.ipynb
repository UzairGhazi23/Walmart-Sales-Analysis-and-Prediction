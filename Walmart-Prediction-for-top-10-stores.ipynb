{
 "cells": [
  {
   "cell_type": "markdown",
   "id": "38170a1a",
   "metadata": {},
   "source": [
    "# Walmart Sales Top 10 Stores Analysis and Prediction"
   ]
  },
  {
   "cell_type": "markdown",
   "id": "27983692",
   "metadata": {},
   "source": [
    "### 2.1)Importing Libraries"
   ]
  },
  {
   "cell_type": "code",
   "execution_count": 49,
   "id": "aa2b4d9f",
   "metadata": {},
   "outputs": [],
   "source": [
    "import pandas as pd\n",
    "import numpy as np\n",
    "import matplotlib.pyplot as plt\n",
    "import seaborn as sns\n",
    "from scipy.stats import spearmanr\n",
    "\n",
    "from sklearn.model_selection import train_test_split, GridSearchCV\n",
    "from sklearn.preprocessing import StandardScaler, OneHotEncoder , FunctionTransformer , LabelEncoder , PowerTransformer\n",
    "from sklearn.impute import SimpleImputer\n",
    "from sklearn.compose import ColumnTransformer \n",
    "from sklearn.pipeline import Pipeline\n",
    "from sklearn.metrics import mean_absolute_error, mean_squared_error, r2_score ,mean_absolute_percentage_error , accuracy_score\n",
    "from sklearn.tree import DecisionTreeRegressor ,plot_tree ,DecisionTreeClassifier\n",
    "from sklearn.linear_model import LinearRegression , LogisticRegression\n",
    "from sklearn.neighbors import KNeighborsRegressor , KNeighborsClassifier\n",
    "from statsmodels.tsa.seasonal import seasonal_decompose\n"
   ]
  },
  {
   "cell_type": "markdown",
   "id": "333f4684",
   "metadata": {},
   "source": [
    "### 2.2) Loading the Dataset"
   ]
  },
  {
   "cell_type": "code",
   "execution_count": 50,
   "id": "30d1c537",
   "metadata": {},
   "outputs": [
    {
     "data": {
      "text/html": [
       "<div>\n",
       "<style scoped>\n",
       "    .dataframe tbody tr th:only-of-type {\n",
       "        vertical-align: middle;\n",
       "    }\n",
       "\n",
       "    .dataframe tbody tr th {\n",
       "        vertical-align: top;\n",
       "    }\n",
       "\n",
       "    .dataframe thead th {\n",
       "        text-align: right;\n",
       "    }\n",
       "</style>\n",
       "<table border=\"1\" class=\"dataframe\">\n",
       "  <thead>\n",
       "    <tr style=\"text-align: right;\">\n",
       "      <th></th>\n",
       "      <th>Store</th>\n",
       "      <th>Date</th>\n",
       "      <th>Weekly_Sales</th>\n",
       "      <th>Holiday_Flag</th>\n",
       "      <th>Temperature</th>\n",
       "      <th>Fuel_Price</th>\n",
       "      <th>CPI</th>\n",
       "      <th>Unemployment</th>\n",
       "    </tr>\n",
       "  </thead>\n",
       "  <tbody>\n",
       "    <tr>\n",
       "      <th>0</th>\n",
       "      <td>1</td>\n",
       "      <td>05-02-2010</td>\n",
       "      <td>1643690.90</td>\n",
       "      <td>0</td>\n",
       "      <td>42.31</td>\n",
       "      <td>2.572</td>\n",
       "      <td>211.096358</td>\n",
       "      <td>8.106</td>\n",
       "    </tr>\n",
       "    <tr>\n",
       "      <th>1</th>\n",
       "      <td>1</td>\n",
       "      <td>12-02-2010</td>\n",
       "      <td>1641957.44</td>\n",
       "      <td>1</td>\n",
       "      <td>38.51</td>\n",
       "      <td>2.548</td>\n",
       "      <td>211.242170</td>\n",
       "      <td>8.106</td>\n",
       "    </tr>\n",
       "    <tr>\n",
       "      <th>2</th>\n",
       "      <td>1</td>\n",
       "      <td>19-02-2010</td>\n",
       "      <td>1611968.17</td>\n",
       "      <td>0</td>\n",
       "      <td>39.93</td>\n",
       "      <td>2.514</td>\n",
       "      <td>211.289143</td>\n",
       "      <td>8.106</td>\n",
       "    </tr>\n",
       "    <tr>\n",
       "      <th>3</th>\n",
       "      <td>1</td>\n",
       "      <td>26-02-2010</td>\n",
       "      <td>1409727.59</td>\n",
       "      <td>0</td>\n",
       "      <td>46.63</td>\n",
       "      <td>2.561</td>\n",
       "      <td>211.319643</td>\n",
       "      <td>8.106</td>\n",
       "    </tr>\n",
       "    <tr>\n",
       "      <th>4</th>\n",
       "      <td>1</td>\n",
       "      <td>05-03-2010</td>\n",
       "      <td>1554806.68</td>\n",
       "      <td>0</td>\n",
       "      <td>46.50</td>\n",
       "      <td>2.625</td>\n",
       "      <td>211.350143</td>\n",
       "      <td>8.106</td>\n",
       "    </tr>\n",
       "    <tr>\n",
       "      <th>...</th>\n",
       "      <td>...</td>\n",
       "      <td>...</td>\n",
       "      <td>...</td>\n",
       "      <td>...</td>\n",
       "      <td>...</td>\n",
       "      <td>...</td>\n",
       "      <td>...</td>\n",
       "      <td>...</td>\n",
       "    </tr>\n",
       "    <tr>\n",
       "      <th>6430</th>\n",
       "      <td>45</td>\n",
       "      <td>28-09-2012</td>\n",
       "      <td>713173.95</td>\n",
       "      <td>0</td>\n",
       "      <td>64.88</td>\n",
       "      <td>3.997</td>\n",
       "      <td>192.013558</td>\n",
       "      <td>8.684</td>\n",
       "    </tr>\n",
       "    <tr>\n",
       "      <th>6431</th>\n",
       "      <td>45</td>\n",
       "      <td>05-10-2012</td>\n",
       "      <td>733455.07</td>\n",
       "      <td>0</td>\n",
       "      <td>64.89</td>\n",
       "      <td>3.985</td>\n",
       "      <td>192.170412</td>\n",
       "      <td>8.667</td>\n",
       "    </tr>\n",
       "    <tr>\n",
       "      <th>6432</th>\n",
       "      <td>45</td>\n",
       "      <td>12-10-2012</td>\n",
       "      <td>734464.36</td>\n",
       "      <td>0</td>\n",
       "      <td>54.47</td>\n",
       "      <td>4.000</td>\n",
       "      <td>192.327265</td>\n",
       "      <td>8.667</td>\n",
       "    </tr>\n",
       "    <tr>\n",
       "      <th>6433</th>\n",
       "      <td>45</td>\n",
       "      <td>19-10-2012</td>\n",
       "      <td>718125.53</td>\n",
       "      <td>0</td>\n",
       "      <td>56.47</td>\n",
       "      <td>3.969</td>\n",
       "      <td>192.330854</td>\n",
       "      <td>8.667</td>\n",
       "    </tr>\n",
       "    <tr>\n",
       "      <th>6434</th>\n",
       "      <td>45</td>\n",
       "      <td>26-10-2012</td>\n",
       "      <td>760281.43</td>\n",
       "      <td>0</td>\n",
       "      <td>58.85</td>\n",
       "      <td>3.882</td>\n",
       "      <td>192.308899</td>\n",
       "      <td>8.667</td>\n",
       "    </tr>\n",
       "  </tbody>\n",
       "</table>\n",
       "<p>6435 rows × 8 columns</p>\n",
       "</div>"
      ],
      "text/plain": [
       "      Store        Date  Weekly_Sales  Holiday_Flag  Temperature  Fuel_Price  \\\n",
       "0         1  05-02-2010    1643690.90             0        42.31       2.572   \n",
       "1         1  12-02-2010    1641957.44             1        38.51       2.548   \n",
       "2         1  19-02-2010    1611968.17             0        39.93       2.514   \n",
       "3         1  26-02-2010    1409727.59             0        46.63       2.561   \n",
       "4         1  05-03-2010    1554806.68             0        46.50       2.625   \n",
       "...     ...         ...           ...           ...          ...         ...   \n",
       "6430     45  28-09-2012     713173.95             0        64.88       3.997   \n",
       "6431     45  05-10-2012     733455.07             0        64.89       3.985   \n",
       "6432     45  12-10-2012     734464.36             0        54.47       4.000   \n",
       "6433     45  19-10-2012     718125.53             0        56.47       3.969   \n",
       "6434     45  26-10-2012     760281.43             0        58.85       3.882   \n",
       "\n",
       "             CPI  Unemployment  \n",
       "0     211.096358         8.106  \n",
       "1     211.242170         8.106  \n",
       "2     211.289143         8.106  \n",
       "3     211.319643         8.106  \n",
       "4     211.350143         8.106  \n",
       "...          ...           ...  \n",
       "6430  192.013558         8.684  \n",
       "6431  192.170412         8.667  \n",
       "6432  192.327265         8.667  \n",
       "6433  192.330854         8.667  \n",
       "6434  192.308899         8.667  \n",
       "\n",
       "[6435 rows x 8 columns]"
      ]
     },
     "execution_count": 50,
     "metadata": {},
     "output_type": "execute_result"
    }
   ],
   "source": [
    "df= pd.read_csv(\"Walmart.csv\")\n",
    "df"
   ]
  },
  {
   "cell_type": "code",
   "execution_count": 9,
   "id": "73847e0e",
   "metadata": {},
   "outputs": [],
   "source": [
    "# df[\"Date\"]=pd.to_datetime(df[\"Date\"], format='%d-%m-%Y')"
   ]
  },
  {
   "cell_type": "markdown",
   "id": "35790bfe",
   "metadata": {},
   "source": [
    "### 3.4.1) Removing Outliers of Weekly Sales"
   ]
  },
  {
   "cell_type": "code",
   "execution_count": 51,
   "id": "3bbc771e",
   "metadata": {},
   "outputs": [
    {
     "name": "stdout",
     "output_type": "stream",
     "text": [
      "209986.25\n",
      "3818686.45\n",
      "564366.6220536975\n",
      "1046964.8775617715\n",
      "Upper Limit: 2720371.4924999997\n",
      "Lower Limit: 119945.8274999999\n",
      "Weekly Sales Above Upper Limit Data Points (34, 8)\n",
      "Weekly Sales Below Lower Limit Data Points (0, 8)\n"
     ]
    }
   ],
   "source": [
    "print(df[\"Weekly_Sales\"].min())\n",
    "print(df[\"Weekly_Sales\"].max())\n",
    "print(df[\"Weekly_Sales\"].std())\n",
    "print(df[\"Weekly_Sales\"].mean())\n",
    "\n",
    "percentile25=df[\"Weekly_Sales\"].quantile(0.25)\n",
    "percentile75=df[\"Weekly_Sales\"].quantile(0.75)\n",
    "\n",
    "iqr = percentile75 - percentile25\n",
    "\n",
    "upper_limit_weekly_sales=percentile75 +1.5 * iqr\n",
    "lower_limit_weekly_sales=percentile75 -1.5 * iqr\n",
    "print(\"Upper Limit:\",upper_limit_weekly_sales)\n",
    "print(\"Lower Limit:\",lower_limit_weekly_sales)\n",
    "\n",
    "print(\"Weekly Sales Above Upper Limit Data Points\",df[df[\"Weekly_Sales\"]>upper_limit_weekly_sales].shape)\n",
    "\n",
    "print(\"Weekly Sales Below Lower Limit Data Points\",df[df[\"Weekly_Sales\"]<lower_limit_weekly_sales].shape)\n",
    "\n",
    "df = df[df[\"Weekly_Sales\"] < upper_limit_weekly_sales]\n",
    "\n"
   ]
  },
  {
   "cell_type": "code",
   "execution_count": 52,
   "id": "c3c9cf22",
   "metadata": {},
   "outputs": [],
   "source": [
    "dff = df.copy()\n",
    "dff[\"Date\"]=pd.to_datetime(dff[\"Date\"], format='%d-%m-%Y')"
   ]
  },
  {
   "cell_type": "markdown",
   "id": "e3d4adfb",
   "metadata": {},
   "source": [
    "# 1) Classification"
   ]
  },
  {
   "cell_type": "code",
   "execution_count": 53,
   "id": "90a6eb86",
   "metadata": {},
   "outputs": [
    {
     "name": "stderr",
     "output_type": "stream",
     "text": [
      "C:\\Users\\Nexgen\\AppData\\Local\\Temp\\ipykernel_17692\\3052394694.py:11: SettingWithCopyWarning: \n",
      "A value is trying to be set on a copy of a slice from a DataFrame.\n",
      "Try using .loc[row_indexer,col_indexer] = value instead\n",
      "\n",
      "See the caveats in the documentation: https://pandas.pydata.org/pandas-docs/stable/user_guide/indexing.html#returning-a-view-versus-a-copy\n",
      "  df['Sales_Category'] = np.select(conditions, labels)\n"
     ]
    }
   ],
   "source": [
    "mean_sales = df[\"Weekly_Sales\"].mean()\n",
    "min_sales = df[\"Weekly_Sales\"].min()\n",
    "\n",
    "# Create a new column for sales categories\n",
    "conditions = [\n",
    "    (df['Weekly_Sales'] > mean_sales),\n",
    "    (df['Weekly_Sales'] <= mean_sales) & (df['Weekly_Sales'] > min_sales),\n",
    "    (df['Weekly_Sales'] <= min_sales)\n",
    "]\n",
    "labels = ['High', 'Medium', 'Low']\n",
    "df['Sales_Category'] = np.select(conditions, labels)"
   ]
  },
  {
   "cell_type": "code",
   "execution_count": 54,
   "id": "f4cf3e26",
   "metadata": {},
   "outputs": [
    {
     "data": {
      "text/plain": [
       "0         High\n",
       "1         High\n",
       "2         High\n",
       "3         High\n",
       "4         High\n",
       "         ...  \n",
       "6430    Medium\n",
       "6431    Medium\n",
       "6432    Medium\n",
       "6433    Medium\n",
       "6434    Medium\n",
       "Name: Sales_Category, Length: 6401, dtype: object"
      ]
     },
     "execution_count": 54,
     "metadata": {},
     "output_type": "execute_result"
    }
   ],
   "source": [
    "df[\"Sales_Category\"]"
   ]
  },
  {
   "cell_type": "code",
   "execution_count": 55,
   "id": "0bd5dc47",
   "metadata": {},
   "outputs": [
    {
     "name": "stderr",
     "output_type": "stream",
     "text": [
      "C:\\Users\\Nexgen\\AppData\\Local\\Temp\\ipykernel_17692\\2692680258.py:2: SettingWithCopyWarning: \n",
      "A value is trying to be set on a copy of a slice from a DataFrame.\n",
      "Try using .loc[row_indexer,col_indexer] = value instead\n",
      "\n",
      "See the caveats in the documentation: https://pandas.pydata.org/pandas-docs/stable/user_guide/indexing.html#returning-a-view-versus-a-copy\n",
      "  df['Sales_Category']= label_encoder.fit_transform(df['Sales_Category'])\n"
     ]
    }
   ],
   "source": [
    "label_encoder = LabelEncoder()\n",
    "df['Sales_Category']= label_encoder.fit_transform(df['Sales_Category'])"
   ]
  },
  {
   "cell_type": "code",
   "execution_count": 56,
   "id": "15a6244d",
   "metadata": {},
   "outputs": [
    {
     "data": {
      "text/plain": [
       "0       0\n",
       "1       0\n",
       "2       0\n",
       "3       0\n",
       "4       0\n",
       "       ..\n",
       "6430    2\n",
       "6431    2\n",
       "6432    2\n",
       "6433    2\n",
       "6434    2\n",
       "Name: Sales_Category, Length: 6401, dtype: int32"
      ]
     },
     "execution_count": 56,
     "metadata": {},
     "output_type": "execute_result"
    }
   ],
   "source": [
    "df[\"Sales_Category\"]"
   ]
  },
  {
   "cell_type": "code",
   "execution_count": 57,
   "id": "03a60ff2",
   "metadata": {},
   "outputs": [],
   "source": [
    "df.set_index('Date', inplace=True)"
   ]
  },
  {
   "cell_type": "code",
   "execution_count": 58,
   "id": "84217795",
   "metadata": {},
   "outputs": [],
   "source": [
    "X = df[['Temperature', 'Fuel_Price', 'CPI', 'Unemployment']]\n",
    "y = df['Sales_Category']"
   ]
  },
  {
   "cell_type": "code",
   "execution_count": 59,
   "id": "c0b50d99",
   "metadata": {},
   "outputs": [],
   "source": [
    "X_train_class,X_test_class , y_train_class , y_test_class = train_test_split(X,y,test_size=0.2)"
   ]
  },
  {
   "cell_type": "code",
   "execution_count": 60,
   "id": "9abe48d4",
   "metadata": {},
   "outputs": [
    {
     "data": {
      "text/plain": [
       "(5120, 4)"
      ]
     },
     "execution_count": 60,
     "metadata": {},
     "output_type": "execute_result"
    }
   ],
   "source": [
    "X_train_class.shape"
   ]
  },
  {
   "cell_type": "code",
   "execution_count": 61,
   "id": "8e3fb369",
   "metadata": {},
   "outputs": [],
   "source": [
    "scaler = StandardScaler()\n",
    "X_train_scaled = scaler.fit_transform(X_train_class)\n",
    "X_test_scaled = scaler.transform(X_test_class)"
   ]
  },
  {
   "cell_type": "code",
   "execution_count": 62,
   "id": "d2f7dcc9",
   "metadata": {},
   "outputs": [
    {
     "data": {
      "text/plain": [
       "(5120, 4)"
      ]
     },
     "execution_count": 62,
     "metadata": {},
     "output_type": "execute_result"
    }
   ],
   "source": [
    "X_train_scaled.shape"
   ]
  },
  {
   "cell_type": "code",
   "execution_count": 63,
   "id": "8e38103b",
   "metadata": {},
   "outputs": [
    {
     "name": "stdout",
     "output_type": "stream",
     "text": [
      "Logistic Regression Accuracy Score: 0.56\n"
     ]
    }
   ],
   "source": [
    "lr_model = LogisticRegression(max_iter=200)\n",
    "lr_model.fit(X_train_scaled, y_train_class)\n",
    "lr_pred = lr_model.predict(X_test_scaled)\n",
    "lr_score = accuracy_score(y_test_class, lr_pred)\n",
    "print(f'Logistic Regression Accuracy Score: {lr_score:.2f}')\n"
   ]
  },
  {
   "cell_type": "code",
   "execution_count": 65,
   "id": "98a0b898",
   "metadata": {},
   "outputs": [
    {
     "name": "stdout",
     "output_type": "stream",
     "text": [
      "KNN Accuracy Score: 0.60\n"
     ]
    }
   ],
   "source": [
    "knn = KNeighborsClassifier(n_neighbors=5)  # Example: using k=5\n",
    "\n",
    "# Fit the classifier on the scaled training data\n",
    "knn.fit(X_train_scaled, y_train_class)\n",
    "\n",
    "# Predict on the scaled test data\n",
    "knn_pred = knn.predict(X_test_scaled)\n",
    "\n",
    "# Calculate accuracy score\n",
    "knn_score = accuracy_score(y_test_class, knn_pred)\n",
    "print(f'KNN Accuracy Score: {knn_score:.2f}')\n"
   ]
  },
  {
   "cell_type": "code",
   "execution_count": 66,
   "id": "88f75e60",
   "metadata": {},
   "outputs": [
    {
     "name": "stdout",
     "output_type": "stream",
     "text": [
      "Decision Tree Accuracy Score: 0.61\n"
     ]
    }
   ],
   "source": [
    "dt_model = DecisionTreeClassifier(max_depth=3, min_samples_split=6, min_samples_leaf=2)\n",
    "dt_model.fit(X_train_scaled, y_train_class)\n",
    "dt_pred = dt_model.predict(X_test_scaled)\n",
    "dt_score = accuracy_score(y_test_class, dt_pred)\n",
    "print(f'Decision Tree Accuracy Score: {dt_score:.2f}')\n"
   ]
  },
  {
   "cell_type": "code",
   "execution_count": 47,
   "id": "bee1d065",
   "metadata": {},
   "outputs": [],
   "source": [
    "# from sklearn import tree\n",
    "\n",
    "# plt.figure(figsize=(20, 15))  # Adjust width and height as needed\n",
    "# tree.plot_tree(dt_model, filled=True, fontsize=10)  # Lower fontsize for larger trees\n",
    "# plt.show()"
   ]
  },
  {
   "cell_type": "markdown",
   "id": "76503e33",
   "metadata": {},
   "source": [
    "# Top 10 Store"
   ]
  },
  {
   "cell_type": "code",
   "execution_count": 71,
   "id": "7d777050",
   "metadata": {},
   "outputs": [
    {
     "name": "stdout",
     "output_type": "stream",
     "text": [
      "Index([20, 4, 14, 13, 2, 10, 27, 6, 1, 39], dtype='int64', name='Store')\n"
     ]
    },
    {
     "data": {
      "text/html": [
       "<div>\n",
       "<style scoped>\n",
       "    .dataframe tbody tr th:only-of-type {\n",
       "        vertical-align: middle;\n",
       "    }\n",
       "\n",
       "    .dataframe tbody tr th {\n",
       "        vertical-align: top;\n",
       "    }\n",
       "\n",
       "    .dataframe thead th {\n",
       "        text-align: right;\n",
       "    }\n",
       "</style>\n",
       "<table border=\"1\" class=\"dataframe\">\n",
       "  <thead>\n",
       "    <tr style=\"text-align: right;\">\n",
       "      <th></th>\n",
       "      <th>Date</th>\n",
       "      <th>Store</th>\n",
       "      <th>Actual</th>\n",
       "      <th>LR_Prediction</th>\n",
       "      <th>DT_Prediction</th>\n",
       "      <th>KNN_Prediction</th>\n",
       "    </tr>\n",
       "  </thead>\n",
       "  <tbody>\n",
       "    <tr>\n",
       "      <th>0</th>\n",
       "      <td>25-03-2011</td>\n",
       "      <td>20</td>\n",
       "      <td>1824711.21</td>\n",
       "      <td>2.132125e+06</td>\n",
       "      <td>2.053591e+06</td>\n",
       "      <td>2.002690e+06</td>\n",
       "    </tr>\n",
       "    <tr>\n",
       "      <th>1</th>\n",
       "      <td>25-05-2012</td>\n",
       "      <td>20</td>\n",
       "      <td>2114989.00</td>\n",
       "      <td>2.097992e+06</td>\n",
       "      <td>2.132873e+06</td>\n",
       "      <td>2.104274e+06</td>\n",
       "    </tr>\n",
       "    <tr>\n",
       "      <th>2</th>\n",
       "      <td>25-06-2010</td>\n",
       "      <td>20</td>\n",
       "      <td>1973135.87</td>\n",
       "      <td>2.006259e+06</td>\n",
       "      <td>2.053591e+06</td>\n",
       "      <td>2.107234e+06</td>\n",
       "    </tr>\n",
       "    <tr>\n",
       "      <th>3</th>\n",
       "      <td>25-11-2011</td>\n",
       "      <td>20</td>\n",
       "      <td>2906233.25</td>\n",
       "      <td>2.194307e+06</td>\n",
       "      <td>2.132873e+06</td>\n",
       "      <td>2.158175e+06</td>\n",
       "    </tr>\n",
       "    <tr>\n",
       "      <th>4</th>\n",
       "      <td>26-02-2010</td>\n",
       "      <td>20</td>\n",
       "      <td>1898193.95</td>\n",
       "      <td>2.189714e+06</td>\n",
       "      <td>2.053591e+06</td>\n",
       "      <td>2.123495e+06</td>\n",
       "    </tr>\n",
       "    <tr>\n",
       "      <th>...</th>\n",
       "      <td>...</td>\n",
       "      <td>...</td>\n",
       "      <td>...</td>\n",
       "      <td>...</td>\n",
       "      <td>...</td>\n",
       "      <td>...</td>\n",
       "    </tr>\n",
       "    <tr>\n",
       "      <th>285</th>\n",
       "      <td>30-07-2010</td>\n",
       "      <td>39</td>\n",
       "      <td>1308222.24</td>\n",
       "      <td>1.352549e+06</td>\n",
       "      <td>1.342706e+06</td>\n",
       "      <td>1.323767e+06</td>\n",
       "    </tr>\n",
       "    <tr>\n",
       "      <th>286</th>\n",
       "      <td>30-09-2011</td>\n",
       "      <td>39</td>\n",
       "      <td>1311775.83</td>\n",
       "      <td>1.527164e+06</td>\n",
       "      <td>1.372548e+06</td>\n",
       "      <td>1.386787e+06</td>\n",
       "    </tr>\n",
       "    <tr>\n",
       "      <th>287</th>\n",
       "      <td>30-12-2011</td>\n",
       "      <td>39</td>\n",
       "      <td>1537139.56</td>\n",
       "      <td>1.541620e+06</td>\n",
       "      <td>1.913352e+06</td>\n",
       "      <td>1.326276e+06</td>\n",
       "    </tr>\n",
       "    <tr>\n",
       "      <th>288</th>\n",
       "      <td>31-08-2012</td>\n",
       "      <td>39</td>\n",
       "      <td>1710923.94</td>\n",
       "      <td>1.559263e+06</td>\n",
       "      <td>1.639095e+06</td>\n",
       "      <td>1.625281e+06</td>\n",
       "    </tr>\n",
       "    <tr>\n",
       "      <th>289</th>\n",
       "      <td>31-12-2010</td>\n",
       "      <td>39</td>\n",
       "      <td>1230012.16</td>\n",
       "      <td>1.250398e+06</td>\n",
       "      <td>1.957077e+06</td>\n",
       "      <td>1.326276e+06</td>\n",
       "    </tr>\n",
       "  </tbody>\n",
       "</table>\n",
       "<p>290 rows × 6 columns</p>\n",
       "</div>"
      ],
      "text/plain": [
       "           Date  Store      Actual  LR_Prediction  DT_Prediction  \\\n",
       "0    25-03-2011     20  1824711.21   2.132125e+06   2.053591e+06   \n",
       "1    25-05-2012     20  2114989.00   2.097992e+06   2.132873e+06   \n",
       "2    25-06-2010     20  1973135.87   2.006259e+06   2.053591e+06   \n",
       "3    25-11-2011     20  2906233.25   2.194307e+06   2.132873e+06   \n",
       "4    26-02-2010     20  1898193.95   2.189714e+06   2.053591e+06   \n",
       "..          ...    ...         ...            ...            ...   \n",
       "285  30-07-2010     39  1308222.24   1.352549e+06   1.342706e+06   \n",
       "286  30-09-2011     39  1311775.83   1.527164e+06   1.372548e+06   \n",
       "287  30-12-2011     39  1537139.56   1.541620e+06   1.913352e+06   \n",
       "288  31-08-2012     39  1710923.94   1.559263e+06   1.639095e+06   \n",
       "289  31-12-2010     39  1230012.16   1.250398e+06   1.957077e+06   \n",
       "\n",
       "     KNN_Prediction  \n",
       "0      2.002690e+06  \n",
       "1      2.104274e+06  \n",
       "2      2.107234e+06  \n",
       "3      2.158175e+06  \n",
       "4      2.123495e+06  \n",
       "..              ...  \n",
       "285    1.323767e+06  \n",
       "286    1.386787e+06  \n",
       "287    1.326276e+06  \n",
       "288    1.625281e+06  \n",
       "289    1.326276e+06  \n",
       "\n",
       "[290 rows x 6 columns]"
      ]
     },
     "execution_count": 71,
     "metadata": {},
     "output_type": "execute_result"
    }
   ],
   "source": [
    "# Load the dataset\n",
    "df = pd.read_csv(\"Walmart.csv\")\n",
    "\n",
    "# Identify top 10 stores with highest weekly sales\n",
    "top_stores = df.groupby('Store')['Weekly_Sales'].sum().nlargest(10).index\n",
    "print(top_stores)\n",
    "\n",
    "# Prepare FunctionTransformer for log transformation\n",
    "trf = FunctionTransformer(func=np.log1p, validate=True)\n",
    "\n",
    "# Prepare a list to hold the predictions for all top stores\n",
    "all_predictions = []\n",
    "\n",
    "for store in top_stores:\n",
    "    store_data = df[df['Store'] == store].copy()\n",
    "    \n",
    "    # Sort by date to maintain temporal order\n",
    "    store_data.sort_values('Date', inplace=True)\n",
    "    \n",
    "    # Log transform the target variable\n",
    "    y = trf.fit_transform(store_data[['Weekly_Sales']].values.reshape(-1, 1)).flatten()\n",
    "    \n",
    "    # Feature selection\n",
    "    X = store_data[['Holiday_Flag', 'Temperature', 'Fuel_Price', 'CPI', 'Unemployment']]\n",
    "    \n",
    "    # Train-test split\n",
    "    X_train, X_test, y_train, y_test = train_test_split(X, y, test_size=0.2, shuffle=False)\n",
    "    \n",
    "    # Scale the features\n",
    "    scaler = StandardScaler()\n",
    "    X_train_scaled = scaler.fit_transform(X_train)\n",
    "    X_test_scaled = scaler.transform(X_test)\n",
    "    \n",
    "    # Initialize and train the models\n",
    "    # Linear Regression\n",
    "    lr_model = LinearRegression()\n",
    "    lr_model.fit(X_train_scaled, y_train)\n",
    "    y_pred_lr = lr_model.predict(X_test_scaled)\n",
    "    \n",
    "    # Decision Tree\n",
    "    dt_model = DecisionTreeRegressor(max_depth=3, min_samples_split=6, min_samples_leaf=2)\n",
    "    dt_model.fit(X_train_scaled, y_train)\n",
    "    y_pred_dt = dt_model.predict(X_test_scaled)\n",
    "    \n",
    "    # Simple K-Nearest Neighbors\n",
    "    knn = KNeighborsRegressor(n_neighbors=5)  # Fixed number of neighbors\n",
    "    knn.fit(X_train_scaled, y_train)\n",
    "    y_pred_knn = knn.predict(X_test_scaled)\n",
    "    \n",
    "    # Inverse log transformation\n",
    "    y_test_inv = np.expm1(trf.inverse_transform(y_test.reshape(-1, 1)).flatten())\n",
    "    y_pred_lr = np.expm1(y_pred_lr)\n",
    "    y_pred_dt = np.expm1(y_pred_dt)\n",
    "    y_pred_knn = np.expm1(y_pred_knn)\n",
    "    \n",
    "    # Store predictions and actuals in the list\n",
    "    all_predictions.append(pd.DataFrame({\n",
    "        'Date': store_data['Date'].iloc[len(X_train):],\n",
    "        'Store': store,\n",
    "        'Actual': y_test_inv,\n",
    "        'LR_Prediction': y_pred_lr,\n",
    "        'DT_Prediction': y_pred_dt,\n",
    "        'KNN_Prediction': y_pred_knn\n",
    "    }))\n",
    "\n",
    "# Concatenate all predictions into a single DataFrame\n",
    "final_predictions = pd.concat(all_predictions, ignore_index=True)\n",
    "\n",
    "# Print or save the final predictions\n",
    "final_predictions"
   ]
  },
  {
   "cell_type": "code",
   "execution_count": null,
   "id": "af216d71",
   "metadata": {},
   "outputs": [],
   "source": []
  }
 ],
 "metadata": {
  "kernelspec": {
   "display_name": "Python 3 (ipykernel)",
   "language": "python",
   "name": "python3"
  },
  "language_info": {
   "codemirror_mode": {
    "name": "ipython",
    "version": 3
   },
   "file_extension": ".py",
   "mimetype": "text/x-python",
   "name": "python",
   "nbconvert_exporter": "python",
   "pygments_lexer": "ipython3",
   "version": "3.10.9"
  }
 },
 "nbformat": 4,
 "nbformat_minor": 5
}
